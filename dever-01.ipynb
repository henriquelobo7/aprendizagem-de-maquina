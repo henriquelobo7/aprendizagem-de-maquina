{
  "nbformat": 4,
  "nbformat_minor": 0,
  "metadata": {
    "colab": {
      "provenance": [],
      "authorship_tag": "ABX9TyNf3ZCHQEgoyFdQrfzTMENs",
      "include_colab_link": true
    },
    "kernelspec": {
      "name": "python3",
      "display_name": "Python 3"
    },
    "language_info": {
      "name": "python"
    }
  },
  "cells": [
    {
      "cell_type": "markdown",
      "metadata": {
        "id": "view-in-github",
        "colab_type": "text"
      },
      "source": [
        "<a href=\"https://colab.research.google.com/github/henriquelobo7/aprendizagem-de-maquina/blob/main/dever-01.ipynb\" target=\"_parent\"><img src=\"https://colab.research.google.com/assets/colab-badge.svg\" alt=\"Open In Colab\"/></a>"
      ]
    },
    {
      "cell_type": "code",
      "execution_count": null,
      "metadata": {
        "colab": {
          "base_uri": "https://localhost:8080/"
        },
        "id": "OgzUJ6w_UakH",
        "outputId": "999c5f6d-7134-4ea4-97df-03b8866a8ed2"
      },
      "outputs": [
        {
          "output_type": "stream",
          "name": "stdout",
          "text": [
            "Generating locales (this might take a while)...\n",
            "  pt_BR.ISO-8859-1... done\n",
            "Generation complete.\n",
            "\u001b[1mdpkg-trigger:\u001b[0m \u001b[1;31merror:\u001b[0m must be called from a maintainer script (or with a --by-package option)\n",
            "\n",
            "Type dpkg-trigger --help for help about this utility.\n",
            "Generating locales (this might take a while)...\n",
            "  en_US.UTF-8... done\n",
            "  pt_BR.ISO-8859-1... done\n",
            "Generation complete.\n",
            "dpkg-query: package 'pt_br' is not installed and no information is available\n",
            "Use dpkg --info (= dpkg-deb --info) to examine archive files.\n",
            "/usr/sbin/dpkg-reconfigure: pt_BR is not installed\n"
          ]
        }
      ],
      "source": [
        "# Importar os módulos do sistema operacional\n",
        "import os\n",
        "import locale\n",
        "\n",
        "# Instalar pt_BR\n",
        "!/usr/share/locales/install-language-pack pt_BR\n",
        "!dpkg-reconfigure locales pt_BR\n",
        "\n",
        "# Reiniciar o processo Python\n",
        "os.kill(os.getpid(), 9)"
      ]
    },
    {
      "cell_type": "code",
      "source": [
        "# Definições e funções para todos os exemplos\n",
        "# encoding: iso-8859-1\n",
        "\n",
        "from datetime import datetime\n",
        "import random\n",
        "\n",
        "\n",
        "\n",
        "# Ajustando a localização para o Brasil\n",
        "import os\n",
        "import locale\n",
        "locale.setlocale(locale.LC_ALL, 'pt_BR')\n",
        "from datetime import datetime\n",
        "import pytz\n",
        "\n",
        "import pandas as pd\n",
        "\n",
        "# Define o fuso horário para o Brasil (Brasília)\n",
        "con_fuso_horario = pytz.timezone(\"America/Sao_Paulo\")\n",
        "\n",
        "conSeparador= \"\\nXXXXXXXXXXXXX---XXXXXXXXXXXXX\\n\"\n",
        "\n",
        "# Função formatar tempo de execução (dado tempo de inicio e fim, retorna h:m:milisegundos formatado)\n",
        "def formata_tempo_execucao (dttInicio, dttfim):\n",
        "    strTempo = dttfim - dttInicio\n",
        "    str_tempo_execucao_formatado = \"{:02d}:{:02d}.{:06d}\".format(\n",
        "    strTempo.seconds // 60,  # Minutos\n",
        "    strTempo.seconds % 60,  # Segundos\n",
        "    strTempo.microseconds  # Microsegundos\n",
        "    )\n",
        "    return str_tempo_execucao_formatado\n",
        "\n",
        "def formata_data(dttParametro):\n",
        "  return dttParametro.strftime(\"%d/%m/%Y - %H:%M:%S.%f\")\n",
        "\n",
        "def formata_numero(numero):\n",
        "    return locale.format_string(\"%d\", numero, grouping=True)\n",
        "\n",
        "# Cria um array do tamanho intElementosArray, valores inteiros entre intMin e intMax)\n",
        "def montar_array (intElementosArray,intMin, intMax):\n",
        "  x = 0\n",
        "  array = []\n",
        "  while x < intTamArray:\n",
        "    intElementosArray = random.randint(intMin,intMax)\n",
        "    array.append (intElementosArray)\n",
        "    x += 1\n",
        "  return (array)\n",
        "\n",
        "def ler_inteiro (strMensagem):\n",
        "  while True:\n",
        "    try:      # Se nenhuma exceção ocorrer, a cláusula except é ignorada e a execução da instrução try é finalizada\n",
        "      tamanho = int(input(strMensagem))\n",
        "      break  # Se a entrada for válida, sai do loop e finaliza o programa\n",
        "    except ValueError:\n",
        "      print(\"Erro: Por favor, digite um número inteiro valido.\")\n",
        "  return tamanho\n",
        "\n",
        "\n",
        "def carregar_array():\n",
        "    arrMeuArray = []\n",
        "    while True:\n",
        "        entrada = input(\"Digite um número inteiro para o array (-1 para sair): \")\n",
        "        try:\n",
        "            numero = int(entrada)\n",
        "        except ValueError:\n",
        "            print(\"Por favor, digite um número inteiro válido.\")\n",
        "            continue\n",
        "        if numero == -1:\n",
        "            break\n",
        "        arrMeuArray.append(numero)\n",
        "        print (f\"O array atual tem {str(len(arrMeuArray))}. Seu conteúdo é \\n\")\n",
        "        print (arrMeuArray)\n",
        "    return arrMeuArray\n",
        "\n",
        "def marcar_inicio (strMensagem):\n",
        "  dttInicio = datetime.now(con_fuso_horario)\n",
        "  dttInicioFormatado = formata_data(dttInicio)\n",
        "  print(f\"Iniciando {strMensagem} as : \" + str(dttInicioFormatado))\n",
        "  return dttInicio\n",
        "\n",
        "def marcar_fim (strMensagem):\n",
        "  dttFim = datetime.now(con_fuso_horario)\n",
        "  dttFimFormatado = formata_data (dttFim)\n",
        "  print(f\"Finalizando {strMensagem} as : \" + str(dttFimFormatado))\n",
        "  return dttFim\n",
        "\n",
        "def ler_arquivo_csv_para_lista(nome_arquivo):\n",
        "    try:\n",
        "        dados = pd.read_csv(nome_arquivo)\n",
        "        return dados.values.tolist()  # Converte o DataFrame para uma lista de listas\n",
        "    except FileNotFoundError:\n",
        "        print(f\"Erro: Arquivo '{nome_arquivo}' não encontrado.\")\n",
        "        return None"
      ],
      "metadata": {
        "id": "BFK140u0UhYG"
      },
      "execution_count": 1,
      "outputs": []
    },
    {
      "cell_type": "code",
      "source": [
        "import csv\n",
        "\n",
        "def criar_csv(nome_arquivo):\n",
        "    dados = [\n",
        "        [\"Pablo Coelho\", \"01/26/1974\", \"2025/02/17\", \"20:30\"],\n",
        "        [\"Mariana Ferreira\", \"04/26/1995\", \"2025/02/17\", \"20:31\"],\n",
        "        [\"Carlos Souza\", \"07/15/1988\", \"2025/02/17\", \"20:32\"],\n",
        "        [\"Ana Lima\", \"11/03/2000\", \"2025/02/17\", \"20:33\"],\n",
        "        [\"Roberto Mendes\", \"09/22/1993\", \"2025/02/17\", \"20:34\"]\n",
        "    ]\n",
        "\n",
        "    with open(nome_arquivo, mode='w', newline='', encoding='utf-8') as file:\n",
        "        writer = csv.writer(file)\n",
        "        writer.writerow([\"nome\", \"dataNasc\", \"dataCadastrado\", \"horaCadastro\"])\n",
        "        writer.writerows(dados)\n",
        "\n",
        "def ler_csv(nome_arquivo):\n",
        "    with open(nome_arquivo, mode='r', encoding='utf-8') as file:\n",
        "        reader = csv.reader(file)\n",
        "        next(reader)  # Pular cabeçalho\n",
        "        return list(reader)\n",
        "\n",
        "def formatar_data(data):\n",
        "    mes, dia, ano = data.split('/')\n",
        "    return f\"{dia}/{mes}/{ano}\"\n",
        "\n",
        "def exibir_registro(n, registros):\n",
        "    if 1 <= n <= len(registros):\n",
        "        nome, data_nasc, data_cad, hora_cad = registros[n - 1]\n",
        "        print(f\"Registro {n}: Nome: {nome}; Data de nascimento: {formatar_data(data_nasc)}; \"\n",
        "              f\"Data de cadastro: {formatar_data(data_cad)} às {hora_cad} horas\")\n",
        "    else:\n",
        "        print(\"Registro inválido!\")\n",
        "\n",
        "# Nome do arquivo CSV\n",
        "arquivo_csv = \"dados.csv\"\n",
        "criar_csv(arquivo_csv)\n",
        "registros = ler_csv(arquivo_csv)\n",
        "\n",
        "# Solicita ao usuário o número do registro\n",
        "try:\n",
        "    numero = int(input(\"Digite o número do registro que deseja visualizar: \"))\n",
        "    exibir_registro(numero, registros)\n",
        "except ValueError:\n",
        "    print(\"Por favor, insira um número válido.\")\n"
      ],
      "metadata": {
        "colab": {
          "base_uri": "https://localhost:8080/"
        },
        "id": "4CQLLfm8U8g6",
        "outputId": "4cb1ffd6-ff59-45a9-8d9c-2a2e3ff2ad24"
      },
      "execution_count": 3,
      "outputs": [
        {
          "output_type": "stream",
          "name": "stdout",
          "text": [
            "Digite o número do registro que deseja visualizar: 1\n",
            "Registro 1: Nome: Pablo Coelho; Data de nascimento: 26/01/1974; Data de cadastro: 02/2025/17 às 20:30 horas\n"
          ]
        }
      ]
    }
  ]
}