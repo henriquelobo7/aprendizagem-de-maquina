{
  "nbformat": 4,
  "nbformat_minor": 0,
  "metadata": {
    "colab": {
      "provenance": []
    },
    "kernelspec": {
      "name": "python3",
      "display_name": "Python 3"
    },
    "language_info": {
      "name": "python"
    }
  },
  "cells": [
    {
      "cell_type": "code",
      "execution_count": 1,
      "metadata": {
        "id": "bXdwUWZ5tv78"
      },
      "outputs": [],
      "source": [
        "f = open(\"dados.csv\", \"x\")"
      ]
    },
    {
      "cell_type": "code",
      "source": [
        "f = open(\"dados.csv\", \"a\")\n",
        "\n",
        "f.write(\"Ana,25\\nBruno,30\\nCarla,22\\nDaniel,28\\nEduardo,35\")\n",
        "\n",
        "f.close()"
      ],
      "metadata": {
        "id": "2beaihfSuGaE"
      },
      "execution_count": 5,
      "outputs": []
    },
    {
      "cell_type": "code",
      "source": [
        "dados = []\n",
        "\n",
        "with open(\"dados.csv\", \"r\") as f:\n",
        "  linhas = f.readlines()"
      ],
      "metadata": {
        "id": "nzzED-Plukyk"
      },
      "execution_count": 6,
      "outputs": []
    },
    {
      "cell_type": "code",
      "source": [
        "for linha in linhas:\n",
        "  nome, idade = linha.strip().split(\",\")\n",
        "  dados.append((nome, int(idade)))\n",
        "\n",
        "print(dados)"
      ],
      "metadata": {
        "colab": {
          "base_uri": "https://localhost:8080/"
        },
        "id": "TriDPguyu3Qe",
        "outputId": "61a9904c-789d-4783-c70c-34f63a1507ba"
      },
      "execution_count": 9,
      "outputs": [
        {
          "output_type": "stream",
          "name": "stdout",
          "text": [
            "[('Ana', 25), ('Bruno', 30), ('Carla', 22), ('Daniel', 28), ('Eduardo', 35)]\n"
          ]
        }
      ]
    },
    {
      "cell_type": "code",
      "source": [
        "idade_maxima = max(idade for _, idade in dados)\n",
        "\n",
        "nome_usuario = input(\"Digite um nome: \")\n",
        "\n",
        "for nome, idade in dados:\n",
        "  if nome == nome_usuario:\n",
        "    print(f\"A idade de {nome_usuario} é {idade} anos.\")\n",
        "\n",
        "    if idade == idade_maxima:\n",
        "      print(f\"É a pessoa mais velha da lista.\")\n",
        "    else:\n",
        "      print(f\"Não é a pessoa mais velha da lista.\")\n",
        "    break\n",
        "\n",
        "else:\n",
        "  print(\"Nome não encontrado.\")"
      ],
      "metadata": {
        "colab": {
          "base_uri": "https://localhost:8080/"
        },
        "id": "LywOocXTwktg",
        "outputId": "a0ab65b6-6c1f-4281-b109-59bb05d3d578"
      },
      "execution_count": 18,
      "outputs": [
        {
          "output_type": "stream",
          "name": "stdout",
          "text": [
            "Digite um nome: Ana\n",
            "A idade de Ana é 25 anos.\n",
            "Não é a pessoa mais velha da lista.\n"
          ]
        }
      ]
    }
  ]
}