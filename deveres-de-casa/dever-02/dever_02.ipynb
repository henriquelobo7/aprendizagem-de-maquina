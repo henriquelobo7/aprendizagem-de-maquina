{
  "nbformat": 4,
  "nbformat_minor": 0,
  "metadata": {
    "colab": {
      "provenance": []
    },
    "kernelspec": {
      "name": "python3",
      "display_name": "Python 3"
    },
    "language_info": {
      "name": "python"
    }
  },
  "cells": [
    {
      "cell_type": "markdown",
      "source": [
        "### 1. Entrada do Usuário:"
      ],
      "metadata": {
        "id": "CDeL_8Kyt4AP"
      }
    },
    {
      "cell_type": "code",
      "source": [
        "frase = input(\"Insira uma frase aqui: \")\n",
        "\n",
        "if not frase:\n",
        "  input(\"Entrada vazia, tente novamente: \")\n",
        "else:\n",
        "  print(frase)"
      ],
      "metadata": {
        "colab": {
          "base_uri": "https://localhost:8080/"
        },
        "id": "D75Gx4tctBG6",
        "outputId": "cff21bbe-c9a0-49e9-a28f-e407dc2afce0"
      },
      "execution_count": null,
      "outputs": [
        {
          "output_type": "stream",
          "name": "stdout",
          "text": [
            "Insira uma frase aqui: Olá mundo!\n",
            "Olá mundo!\n"
          ]
        }
      ]
    },
    {
      "cell_type": "markdown",
      "source": [
        "### 2. Análise de Frase:"
      ],
      "metadata": {
        "id": "Oul-b7f5uGfN"
      }
    },
    {
      "cell_type": "code",
      "source": [
        "qtde_caracteres = len(frase)\n",
        "\n",
        "palavras = frase.split()\n",
        "\n",
        "maior_palavra = max(palavras, key = len)"
      ],
      "metadata": {
        "colab": {
          "base_uri": "https://localhost:8080/"
        },
        "id": "BJWfbmyruRD7",
        "outputId": "1d3dceaf-a67a-4884-bddd-47749fd915a3"
      },
      "execution_count": null,
      "outputs": [
        {
          "output_type": "stream",
          "name": "stdout",
          "text": [
            "A frase tem 10 caracteres.\n",
            "As palavras são:\n",
            "- Olá\n",
            "- mundo!\n",
            "A maior palavra é mundo!.\n"
          ]
        }
      ]
    },
    {
      "cell_type": "markdown",
      "source": [
        "### 3. Manipulação e Formatação:  "
      ],
      "metadata": {
        "id": "3oIZpcVEvtqw"
      }
    },
    {
      "cell_type": "code",
      "source": [
        "frase_invertida = frase[::-1]\n",
        "\n",
        "palavras_invertidas = palavras[::-1]\n",
        "frase_palavras_invertidas = \" \".join(palavras_invertidas)\n",
        "\n",
        "maiusculas = frase.upper()\n",
        "minusculas = frase.lower()\n",
        "\n",
        "frase_tuplas = tuple(frase.split())"
      ],
      "metadata": {
        "colab": {
          "base_uri": "https://localhost:8080/"
        },
        "id": "q1LoGz__vv-5",
        "outputId": "84308783-846e-45e9-8b1f-ce09a8fe1830"
      },
      "execution_count": null,
      "outputs": [
        {
          "output_type": "stream",
          "name": "stdout",
          "text": [
            "Sua frase invertida: !odnum álO\n",
            "Sua frase com a ordem das palavras invertida: mundo! Olá\n",
            "Frase maiúscula: OLÁ MUNDO!.\n",
            "Frase minúscula: olá mundo!\n",
            "Tupla da frase: ('Olá', 'mundo!')\n"
          ]
        }
      ]
    },
    {
      "cell_type": "markdown",
      "source": [
        "### 4. Saída Formatada:"
      ],
      "metadata": {
        "id": "vzfKWi8XyFBs"
      }
    },
    {
      "cell_type": "code",
      "source": [
        "print(f\"A frase tem {qtde_caracteres} caracteres.\\n\")\n",
        "\n",
        "print(\"As palavras são:\")\n",
        "for palavra in palavras:\n",
        "  print(f\"- {palavra}\")\n",
        "\n",
        "print(f\"\\nA maior palavra é {maior_palavra}.\\n\")\n",
        "\n",
        "print(f\"Sua frase invertida: {frase_invertida}\\n\")\n",
        "\n",
        "print(f\"Sua frase com a ordem das palavras invertida: {frase_palavras_invertidas}\\n\")\n",
        "\n",
        "print(f\"Frase maiúscula: {maiusculas}.\\nFrase minúscula: {minusculas}\\n\")\n",
        "\n",
        "print(f\"Tupla da frase: {frase_tuplas}\")"
      ],
      "metadata": {
        "colab": {
          "base_uri": "https://localhost:8080/"
        },
        "id": "o_Pr250nyIMl",
        "outputId": "d682b626-e31d-45f6-b004-b3ed8d8788be"
      },
      "execution_count": null,
      "outputs": [
        {
          "output_type": "stream",
          "name": "stdout",
          "text": [
            "A frase tem 10 caracteres.\n",
            "\n",
            "As palavras são:\n",
            "- Olá\n",
            "- mundo!\n",
            "\n",
            "A maior palavra é mundo!.\n",
            "\n",
            "Sua frase invertida: !odnum álO\n",
            "\n",
            "Sua frase com a ordem das palavras invertida: mundo! Olá\n",
            "\n",
            "Frase maiúscula: OLÁ MUNDO!.\n",
            "Frase minúscula: olá mundo!\n",
            "\n",
            "Tupla da frase: ('Olá', 'mundo!')\n"
          ]
        }
      ]
    },
    {
      "cell_type": "code",
      "source": [
        "# Adicionar todos os arquivos da pasta ao Git\n",
        "!git add .  # Adiciona todos os arquivos da pasta atual\n",
        "\n",
        "# Confirmar as mudanças\n",
        "!git commit -m \"Adicionando notebook e outros arquivos\""
      ],
      "metadata": {
        "colab": {
          "base_uri": "https://localhost:8080/"
        },
        "id": "ryE9lXiP5uZC",
        "outputId": "df31ef59-76dd-45f7-d12b-74d1a239dfd0"
      },
      "execution_count": 2,
      "outputs": [
        {
          "output_type": "stream",
          "name": "stdout",
          "text": [
            "fatal: not a git repository (or any of the parent directories): .git\n",
            "fatal: not a git repository (or any of the parent directories): .git\n"
          ]
        }
      ]
    }
  ]
}