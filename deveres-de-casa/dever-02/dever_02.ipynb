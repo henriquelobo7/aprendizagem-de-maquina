{
  "cells": [
    {
      "cell_type": "markdown",
      "metadata": {
        "id": "CDeL_8Kyt4AP"
      },
      "source": [
        "### 1. Entrada do Usuário:"
      ]
    },
    {
      "cell_type": "code",
      "execution_count": null,
      "metadata": {
        "colab": {
          "base_uri": "https://localhost:8080/"
        },
        "id": "D75Gx4tctBG6",
        "outputId": "cff21bbe-c9a0-49e9-a28f-e407dc2afce0"
      },
      "outputs": [
        {
          "name": "stdout",
          "output_type": "stream",
          "text": [
            "Insira uma frase aqui: Olá mundo!\n",
            "Olá mundo!\n"
          ]
        }
      ],
      "source": [
        "frase = input(\"Insira uma frase aqui: \")\n",
        "\n",
        "if not frase:\n",
        "  input(\"Entrada vazia, tente novamente: \")\n",
        "else:\n",
        "  print(frase)"
      ]
    },
    {
      "cell_type": "markdown",
      "metadata": {
        "id": "Oul-b7f5uGfN"
      },
      "source": [
        "### 2. Análise de Frase:"
      ]
    },
    {
      "cell_type": "code",
      "execution_count": null,
      "metadata": {
        "colab": {
          "base_uri": "https://localhost:8080/"
        },
        "id": "BJWfbmyruRD7",
        "outputId": "1d3dceaf-a67a-4884-bddd-47749fd915a3"
      },
      "outputs": [
        {
          "name": "stdout",
          "output_type": "stream",
          "text": [
            "A frase tem 10 caracteres.\n",
            "As palavras são:\n",
            "- Olá\n",
            "- mundo!\n",
            "A maior palavra é mundo!.\n"
          ]
        }
      ],
      "source": [
        "qtde_caracteres = len(frase)\n",
        "\n",
        "palavras = frase.split()\n",
        "\n",
        "maior_palavra = max(palavras, key = len)"
      ]
    },
    {
      "cell_type": "markdown",
      "metadata": {
        "id": "3oIZpcVEvtqw"
      },
      "source": [
        "### 3. Manipulação e Formatação:  "
      ]
    },
    {
      "cell_type": "code",
      "execution_count": null,
      "metadata": {
        "colab": {
          "base_uri": "https://localhost:8080/"
        },
        "id": "q1LoGz__vv-5",
        "outputId": "84308783-846e-45e9-8b1f-ce09a8fe1830"
      },
      "outputs": [
        {
          "name": "stdout",
          "output_type": "stream",
          "text": [
            "Sua frase invertida: !odnum álO\n",
            "Sua frase com a ordem das palavras invertida: mundo! Olá\n",
            "Frase maiúscula: OLÁ MUNDO!.\n",
            "Frase minúscula: olá mundo!\n",
            "Tupla da frase: ('Olá', 'mundo!')\n"
          ]
        }
      ],
      "source": [
        "frase_invertida = frase[::-1]\n",
        "\n",
        "palavras_invertidas = palavras[::-1]\n",
        "frase_palavras_invertidas = \" \".join(palavras_invertidas)\n",
        "\n",
        "maiusculas = frase.upper()\n",
        "minusculas = frase.lower()\n",
        "\n",
        "frase_tuplas = tuple(frase.split())"
      ]
    },
    {
      "cell_type": "markdown",
      "metadata": {
        "id": "vzfKWi8XyFBs"
      },
      "source": [
        "### 4. Saída Formatada:"
      ]
    },
    {
      "cell_type": "code",
      "execution_count": null,
      "metadata": {
        "colab": {
          "base_uri": "https://localhost:8080/"
        },
        "id": "o_Pr250nyIMl",
        "outputId": "d682b626-e31d-45f6-b004-b3ed8d8788be"
      },
      "outputs": [
        {
          "name": "stdout",
          "output_type": "stream",
          "text": [
            "A frase tem 10 caracteres.\n",
            "\n",
            "As palavras são:\n",
            "- Olá\n",
            "- mundo!\n",
            "\n",
            "A maior palavra é mundo!.\n",
            "\n",
            "Sua frase invertida: !odnum álO\n",
            "\n",
            "Sua frase com a ordem das palavras invertida: mundo! Olá\n",
            "\n",
            "Frase maiúscula: OLÁ MUNDO!.\n",
            "Frase minúscula: olá mundo!\n",
            "\n",
            "Tupla da frase: ('Olá', 'mundo!')\n"
          ]
        }
      ],
      "source": [
        "print(f\"A frase tem {qtde_caracteres} caracteres.\\n\")\n",
        "\n",
        "print(\"As palavras são:\")\n",
        "for palavra in palavras:\n",
        "  print(f\"- {palavra}\")\n",
        "\n",
        "print(f\"\\nA maior palavra é {maior_palavra}.\\n\")\n",
        "\n",
        "print(f\"Sua frase invertida: {frase_invertida}\\n\")\n",
        "\n",
        "print(f\"Sua frase com a ordem das palavras invertida: {frase_palavras_invertidas}\\n\")\n",
        "\n",
        "print(f\"Frase maiúscula: {maiusculas}.\\nFrase minúscula: {minusculas}\\n\")\n",
        "\n",
        "print(f\"Tupla da frase: {frase_tuplas}\")"
      ]
    }
  ],
  "metadata": {
    "colab": {
      "provenance": []
    },
    "kernelspec": {
      "display_name": "Python 3",
      "name": "python3"
    },
    "language_info": {
      "name": "python"
    }
  },
  "nbformat": 4,
  "nbformat_minor": 0
}
